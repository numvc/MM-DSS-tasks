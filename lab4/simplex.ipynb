{
 "cells": [
  {
   "cell_type": "code",
   "execution_count": 11,
   "metadata": {},
   "outputs": [],
   "source": [
    "import numpy as np"
   ]
  },
  {
   "cell_type": "code",
   "execution_count": 2,
   "metadata": {},
   "outputs": [],
   "source": [
    "def is_float(element: any) -> bool:\n",
    "    if element is None: \n",
    "        return False\n",
    "    try:\n",
    "        float(element)\n",
    "        return True\n",
    "    except ValueError:\n",
    "        return False\n",
    "    "
   ]
  },
  {
   "cell_type": "code",
   "execution_count": 3,
   "metadata": {},
   "outputs": [],
   "source": [
    "def read_from_string(string):\n",
    "    data = string.split('\\n')\n",
    "    allowed_signs = {'<=','>='}\n",
    "    if data[0] == 'min':\n",
    "        min_max_multiplicator = -1\n",
    "    elif data[0] == 'max':\n",
    "        min_max_multiplicator = 1\n",
    "        \n",
    "    else:\n",
    "        raise AssertionError('Введите направление оптимизации в первой строке файла')\n",
    "    c = list(map(float, data[1].split()))\n",
    "    A = []\n",
    "    b = []\n",
    "    for row in data[2:]:\n",
    "        cur_row = []\n",
    "        cur_sign = 0 \n",
    "        for val in row.split():\n",
    "#             try:\n",
    "#                 val=float(val)\n",
    "#             except:\n",
    "#                 pass\n",
    "#             print(val)\n",
    "            if is_float(val):\n",
    "                \n",
    "                cur_row.append(float(val))\n",
    "            elif val in allowed_signs and cur_sign == 0:\n",
    "                if val == '<=':\n",
    "                    cur_sign = 1\n",
    "                else:\n",
    "                    cur_sign = -1\n",
    "            else:\n",
    "                raise AssertionError(f'Неправильный формат строки {row}')\n",
    "        if cur_sign != 0:\n",
    "            cur_row = np.array(cur_row) * cur_sign\n",
    "        else:\n",
    "            raise AssertionError(f'Неправильный формат строки, знак неравенства не найден {row} \\n Допустимые форматы знаков неравенств: {allowed_signs}')\n",
    "        print(cur_row)\n",
    "        A.append(cur_row[:-1])\n",
    "        b.append(cur_row[-1])\n",
    "    A = np.array(A)\n",
    "    b = np.array(b).reshape(-1,1)\n",
    "    c = np.array(c).reshape(1, -1) * min_max_multiplicator\n",
    "    A=A.tolist()\n",
    "    b=b[:,0].tolist()\n",
    "    c=c.tolist()[0]\n",
    "    return A, b, c\n",
    "\n"
   ]
  },
  {
   "cell_type": "code",
   "execution_count": 4,
   "metadata": {},
   "outputs": [],
   "source": [
    "def to_tableau(c, A, b):\n",
    "    xb = [eq + [x] for eq, x in zip(A, b)]\n",
    "    z = c + [0]\n",
    "    return xb + [z]"
   ]
  },
  {
   "cell_type": "code",
   "execution_count": 5,
   "metadata": {},
   "outputs": [],
   "source": [
    "def can_be_improved(tableau):\n",
    "    z = tableau[-1]\n",
    "    return any(x > 0 for x in z[:-1])"
   ]
  },
  {
   "cell_type": "code",
   "execution_count": 6,
   "metadata": {},
   "outputs": [],
   "source": [
    "import math\n",
    "\n",
    "def get_pivot_position(tableau):\n",
    "    z = tableau[-1]\n",
    "    column = next(i for i, x in enumerate(z[:-1]) if x > 0)\n",
    "    \n",
    "    restrictions = []\n",
    "    for eq in tableau[:-1]:\n",
    "        el = eq[column]\n",
    "        restrictions.append(math.inf if el <= 0 else eq[-1] / el)\n",
    "\n",
    "    row = restrictions.index(min(restrictions))\n",
    "    return row, column"
   ]
  },
  {
   "cell_type": "code",
   "execution_count": 7,
   "metadata": {},
   "outputs": [],
   "source": [
    "def pivot_step(tableau, pivot_position):\n",
    "    new_tableau = [[] for eq in tableau]\n",
    "    \n",
    "    i, j = pivot_position\n",
    "    pivot_value = tableau[i][j]\n",
    "    new_tableau[i] = np.array(tableau[i]) / pivot_value\n",
    "    \n",
    "    for eq_i, eq in enumerate(tableau):\n",
    "        if eq_i != i:\n",
    "            multiplier = np.array(new_tableau[i]) * tableau[eq_i][j]\n",
    "            new_tableau[eq_i] = np.array(tableau[eq_i]) - multiplier\n",
    "   \n",
    "    return new_tableau"
   ]
  },
  {
   "cell_type": "code",
   "execution_count": 8,
   "metadata": {},
   "outputs": [],
   "source": [
    "def is_basic(column):\n",
    "    return sum(column) == 1 and len([c for c in column if c == 0]) == len(column) - 1\n",
    "\n",
    "def get_solution(tableau):\n",
    "    columns = np.array(tableau).T\n",
    "    solutions = []\n",
    "    for column in columns:\n",
    "        solution = 0\n",
    "        if is_basic(column):\n",
    "            one_index = column.tolist().index(1)\n",
    "            solution = columns[-1][one_index]\n",
    "#         print('col',column)\n",
    "        solutions.append(solution)\n",
    "        \n",
    "    return solutions"
   ]
  },
  {
   "cell_type": "code",
   "execution_count": 9,
   "metadata": {},
   "outputs": [],
   "source": [
    "def simplex(c, A, b):\n",
    "    tableau = to_tableau(c, A, b)   \n",
    "\n",
    "    while can_be_improved(tableau):\n",
    "        pivot_position = get_pivot_position(tableau)\n",
    "        tableau = pivot_step(tableau, pivot_position)\n",
    "\n",
    "    return get_solution(tableau)"
   ]
  },
  {
   "cell_type": "code",
   "execution_count": 72,
   "metadata": {},
   "outputs": [
    {
     "name": "stdout",
     "output_type": "stream",
     "text": [
      "[  105.   110. 10000.]\n",
      "[  69.   70. 9000.]\n",
      "[5.e+00 6.e+00 1.e+04]\n",
      "[-1. -0. -0.]\n",
      "[-0. -1. -0.]\n"
     ]
    },
    {
     "data": {
      "text/plain": [
       "([[105.0, 110.0], [69.0, 70.0], [5.0, 6.0], [-1.0, -0.0], [-0.0, -1.0]],\n",
       " [10000.0, 9000.0, 10000.0, -0.0, -0.0],\n",
       " [100.0, 120.0])"
      ]
     },
     "execution_count": 72,
     "metadata": {},
     "output_type": "execute_result"
    }
   ],
   "source": [
    "A, b, c=read_from_string(\n",
    "\"\"\"max\n",
    "100 120\n",
    "105 110 <= 10000\n",
    "69 70 <= 9000\n",
    "5 6 <= 10000\n",
    "1 0 >= 0\n",
    "0 1 >= 0\"\"\")\n",
    "A, b, c"
   ]
  },
  {
   "cell_type": "code",
   "execution_count": 73,
   "metadata": {},
   "outputs": [
    {
     "name": "stdout",
     "output_type": "stream",
     "text": [
      "solution:  [0, 90.9090909090909, 0]\n"
     ]
    }
   ],
   "source": [
    "solution = simplex(c, A, b)\n",
    "print('solution: ', solution)"
   ]
  },
  {
   "cell_type": "code",
   "execution_count": null,
   "metadata": {},
   "outputs": [],
   "source": []
  }
 ],
 "metadata": {
  "kernelspec": {
   "display_name": "Python 3 (ipykernel)",
   "language": "python",
   "name": "python3"
  },
  "language_info": {
   "codemirror_mode": {
    "name": "ipython",
    "version": 3
   },
   "file_extension": ".py",
   "mimetype": "text/x-python",
   "name": "python",
   "nbconvert_exporter": "python",
   "pygments_lexer": "ipython3",
   "version": "3.9.10"
  }
 },
 "nbformat": 4,
 "nbformat_minor": 4
}
